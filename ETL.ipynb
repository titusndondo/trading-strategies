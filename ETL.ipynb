{
 "cells": [
  {
   "cell_type": "code",
   "execution_count": 1,
   "metadata": {
    "ExecuteTime": {
     "end_time": "2020-09-04T11:15:07.135120Z",
     "start_time": "2020-09-04T11:15:06.645783Z"
    }
   },
   "outputs": [],
   "source": [
    "import pandas as pd\n",
    "import pandas_datareader.data as web\n",
    "import requests\n",
    "from bs4 import BeautifulSoup\n",
    "from datetime import datetime\n",
    "import yfinance as yf"
   ]
  },
  {
   "cell_type": "code",
   "execution_count": 2,
   "metadata": {
    "ExecuteTime": {
     "end_time": "2020-09-04T11:15:07.140467Z",
     "start_time": "2020-09-04T11:15:07.136886Z"
    },
    "tags": []
   },
   "outputs": [
    {
     "name": "stdout",
     "output_type": "stream",
     "text": [
      "1.0.4\n"
     ]
    }
   ],
   "source": [
    "print(pd.__version__)"
   ]
  },
  {
   "cell_type": "code",
   "execution_count": 3,
   "metadata": {
    "ExecuteTime": {
     "end_time": "2020-09-04T11:15:08.295591Z",
     "start_time": "2020-09-04T11:15:07.265285Z"
    }
   },
   "outputs": [],
   "source": [
    "url = 'https://www.sashares.co.za/shares-list/#gs.dct9y1'\n",
    "response = requests.get(url)"
   ]
  },
  {
   "cell_type": "code",
   "execution_count": 4,
   "metadata": {
    "ExecuteTime": {
     "end_time": "2020-09-04T11:15:08.588786Z",
     "start_time": "2020-09-04T11:15:08.317507Z"
    }
   },
   "outputs": [],
   "source": [
    "website = response.text\n",
    "soup = BeautifulSoup(website, features = \"lxml\")\n",
    "table = soup.find('table')"
   ]
  },
  {
   "cell_type": "code",
   "execution_count": 5,
   "metadata": {
    "ExecuteTime": {
     "end_time": "2020-09-04T11:15:08.668168Z",
     "start_time": "2020-09-04T11:15:08.657910Z"
    },
    "tags": []
   },
   "outputs": [
    {
     "name": "stdout",
     "output_type": "stream",
     "text": [
      "(485, 2)\n"
     ]
    }
   ],
   "source": [
    "rows = len(table.findAll('tr')) - 1\n",
    "columns = 2 #len(table.findAll('tr')[0])\n",
    "print((rows, columns))"
   ]
  },
  {
   "cell_type": "code",
   "execution_count": 6,
   "metadata": {
    "ExecuteTime": {
     "end_time": "2020-09-04T11:15:09.393687Z",
     "start_time": "2020-09-04T11:15:09.371684Z"
    },
    "tags": []
   },
   "outputs": [
    {
     "data": {
      "text/plain": [
       "['JSE Code', 'Share']"
      ]
     },
     "execution_count": 6,
     "metadata": {},
     "output_type": "execute_result"
    }
   ],
   "source": [
    "col_names = [table.findAll('tr')[0].find_all('th')[i].text for i in range(columns)]\n",
    "col_names"
   ]
  },
  {
   "cell_type": "code",
   "execution_count": 12,
   "metadata": {
    "ExecuteTime": {
     "end_time": "2020-09-04T11:17:22.244054Z",
     "start_time": "2020-09-04T11:17:16.366536Z"
    },
    "tags": []
   },
   "outputs": [],
   "source": [
    "companies_dict = {col: [] for col in col_names}\n",
    "\n",
    "for col in range(columns):\n",
    "    for row in range(1, rows):\n",
    "        \n",
    "        if col == 1:\n",
    "            value = table.findAll('tr')[row].find_all('td')[col].text\n",
    "            companies_dict[col_names[col]].append(value)\n",
    "        elif col == 0:\n",
    "            value = table.findAll('tr')[row].find_all('td')[col].text.split('.')[0]\n",
    "            companies_dict[col_names[col]].append(value + '.JO')"
   ]
  },
  {
   "cell_type": "code",
   "execution_count": 13,
   "metadata": {
    "ExecuteTime": {
     "end_time": "2020-09-04T11:17:23.443434Z",
     "start_time": "2020-09-04T11:17:23.433146Z"
    }
   },
   "outputs": [
    {
     "data": {
      "text/html": [
       "<div>\n",
       "<style scoped>\n",
       "    .dataframe tbody tr th:only-of-type {\n",
       "        vertical-align: middle;\n",
       "    }\n",
       "\n",
       "    .dataframe tbody tr th {\n",
       "        vertical-align: top;\n",
       "    }\n",
       "\n",
       "    .dataframe thead th {\n",
       "        text-align: right;\n",
       "    }\n",
       "</style>\n",
       "<table border=\"1\" class=\"dataframe\">\n",
       "  <thead>\n",
       "    <tr style=\"text-align: right;\">\n",
       "      <th></th>\n",
       "      <th>symbol</th>\n",
       "      <th>company_name</th>\n",
       "    </tr>\n",
       "  </thead>\n",
       "  <tbody>\n",
       "    <tr>\n",
       "      <th>0</th>\n",
       "      <td>4ANWK.JO</td>\n",
       "      <td>NWK</td>\n",
       "    </tr>\n",
       "    <tr>\n",
       "      <th>1</th>\n",
       "      <td>4SI.JO</td>\n",
       "      <td>4SIGHT</td>\n",
       "    </tr>\n",
       "    <tr>\n",
       "      <th>2</th>\n",
       "      <td>ABG.JO</td>\n",
       "      <td>ABSA</td>\n",
       "    </tr>\n",
       "    <tr>\n",
       "      <th>3</th>\n",
       "      <td>ABSP.JO</td>\n",
       "      <td>ABSABANK-P</td>\n",
       "    </tr>\n",
       "    <tr>\n",
       "      <th>4</th>\n",
       "      <td>ACE.JO</td>\n",
       "      <td>ACCENT</td>\n",
       "    </tr>\n",
       "    <tr>\n",
       "      <th>...</th>\n",
       "      <td>...</td>\n",
       "      <td>...</td>\n",
       "    </tr>\n",
       "    <tr>\n",
       "      <th>479</th>\n",
       "      <td>YRK.JO</td>\n",
       "      <td>YORK</td>\n",
       "    </tr>\n",
       "    <tr>\n",
       "      <th>480</th>\n",
       "      <td>YYLBEE.JO</td>\n",
       "      <td>YEBOYETHU</td>\n",
       "    </tr>\n",
       "    <tr>\n",
       "      <th>481</th>\n",
       "      <td>ZCL.JO</td>\n",
       "      <td>ZARCLEAR</td>\n",
       "    </tr>\n",
       "    <tr>\n",
       "      <th>482</th>\n",
       "      <td>ZED.JO</td>\n",
       "      <td>ZEDER</td>\n",
       "    </tr>\n",
       "    <tr>\n",
       "      <th>483</th>\n",
       "      <td>ZPLP.JO</td>\n",
       "      <td>ZPLP</td>\n",
       "    </tr>\n",
       "  </tbody>\n",
       "</table>\n",
       "<p>484 rows × 2 columns</p>\n",
       "</div>"
      ],
      "text/plain": [
       "        symbol company_name\n",
       "0     4ANWK.JO          NWK\n",
       "1       4SI.JO       4SIGHT\n",
       "2       ABG.JO         ABSA\n",
       "3      ABSP.JO   ABSABANK-P\n",
       "4       ACE.JO       ACCENT\n",
       "..         ...          ...\n",
       "479     YRK.JO         YORK\n",
       "480  YYLBEE.JO    YEBOYETHU\n",
       "481     ZCL.JO     ZARCLEAR\n",
       "482     ZED.JO        ZEDER\n",
       "483    ZPLP.JO         ZPLP\n",
       "\n",
       "[484 rows x 2 columns]"
      ]
     },
     "execution_count": 13,
     "metadata": {},
     "output_type": "execute_result"
    }
   ],
   "source": [
    "Companies = pd.DataFrame.from_dict(companies_dict).rename(columns = {'JSE Code':'symbol', 'Share':'company_name'})\n",
    "Companies"
   ]
  },
  {
   "cell_type": "code",
   "execution_count": 32,
   "metadata": {
    "ExecuteTime": {
     "end_time": "2020-09-04T11:35:59.665279Z",
     "start_time": "2020-09-04T11:23:21.581014Z"
    }
   },
   "outputs": [
    {
     "name": "stdout",
     "output_type": "stream",
     "text": [
      "0: 4ANWK.JO not available in database\n",
      "1: 4SI.JO not available in database\n",
      "2: ABG.JO not available in database\n",
      "4: ACE.JO not available in database\n",
      "5: ACG.JO not available in database\n",
      "6: ACL.JO not available in database\n",
      "7: ACS.JO not available in database\n",
      "8: ACT.JO not available in database\n",
      "9: ACZ.JO not available in database\n",
      "13: ADW.JO not available in database\n",
      "14: AEE.JO not available in database\n",
      "15: AEG.JO not available in database\n",
      "18: AFEP.JO not available in database\n",
      "21: AFX.JO not available in database\n",
      "22: AGL.JO not available in database\n",
      "23: AHA.JO not available in database\n",
      "24: AHB.JO not available in database\n",
      "25: AHL.JO not available in database\n",
      "26: AIL.JO not available in database\n",
      "28: ALH.JO not available in database\n",
      "29: AME.JO not available in database\n",
      "30: AMIB50.JO not available in database\n",
      "31: AMIRE.JO not available in database\n",
      "32: AMS.JO not available in database\n",
      "33: ANG.JO not available in database\n",
      "34: ANH.JO not available in database\n",
      "35: AON.JO not available in database\n",
      "36: AOO.JO not available in database\n",
      "37: AOVP.JO not available in database\n",
      "38: APF.JO not available in database\n",
      "39: APH.JO not available in database\n",
      "41: ARA.JO not available in database\n",
      "45: ART.JO not available in database\n",
      "47: ASHGEQ.JO not available in database\n",
      "48: ASHINF.JO not available in database\n",
      "49: ASHMID.JO not available in database\n",
      "50: ASHT40.JO not available in database\n",
      "51: ASHWGB.JO not available in database\n",
      "54: AVL.JO not available in database\n",
      "55: AVV.JO not available in database\n",
      "56: AYO.JO not available in database\n",
      "58: BAU.JO not available in database\n",
      "60: BAWP.JO not available in database\n",
      "61: BCF.JO not available in database\n",
      "62: BEL.JO not available in database\n",
      "63: BHP.JO not available in database\n",
      "65: BIK.JO not available in database\n",
      "67: BRN.JO not available in database\n",
      "68: BRT.JO not available in database\n",
      "69: BSR.JO not available in database\n",
      "71: BUC.JO not available in database\n",
      "72: BVT.JO not available in database\n",
      "74: CAC.JO not available in database\n",
      "76: CATP.JO not available in database\n",
      "79: CGN.JO not available in database\n",
      "80: CGR.JO not available in database\n",
      "81: CHP.JO not available in database\n",
      "82: CIL.JO not available in database\n",
      "84: CLH.JO not available in database\n",
      "89: CMO.JO not available in database\n",
      "90: CND.JO not available in database\n",
      "92: COM.JO not available in database\n",
      "94: CPIP.JO not available in database\n",
      "95: CRP.JO not available in database\n",
      "97: CSG.JO not available in database\n",
      "98: CSP500.JO not available in database\n",
      "99: CSPROP.JO not available in database\n",
      "100: CTA.JO not available in database\n",
      "102: CTOP50.JO not available in database\n",
      "103: CVW.JO not available in database\n",
      "104: DCCUS2.JO not available in database\n",
      "105: DCCUSD.JO not available in database\n",
      "107: DGH.JO not available in database\n",
      "108: DIA.JO not available in database\n",
      "109: DIB.JO not available in database\n",
      "110: DIVTRX.JO not available in database\n",
      "112: DNB.JO not available in database\n",
      "114: DSBP.JO not available in database\n",
      "117: ECS.JO not available in database\n",
      "118: ECSD.JO not available in database\n",
      "119: ECSD7.JO not available in database\n",
      "120: ECSG.JO not available in database\n",
      "121: ECSP1.JO not available in database\n",
      "122: ECSP21.JO not available in database\n",
      "123: ECSP24.JO not available in database\n",
      "124: EEL.JO not available in database\n",
      "125: ELI.JO not available in database\n",
      "126: ELR.JO not available in database\n",
      "127: EMH.JO not available in database\n",
      "128: EMI.JO not available in database\n",
      "129: EMN.JO not available in database\n",
      "132: EPE.JO not available in database\n",
      "133: EPP.JO not available in database\n",
      "134: EPS.JO not available in database\n",
      "136: ERN.JO not available in database\n",
      "137: ETF500.JO not available in database\n",
      "138: ETF5IT.JO not available in database\n",
      "139: ETFBND.JO not available in database\n",
      "140: ETFGGB.JO not available in database\n",
      "141: ETFGLD.JO not available in database\n",
      "142: ETFGRE.JO not available in database\n",
      "143: ETFPLD.JO not available in database\n",
      "144: ETFPLT.JO not available in database\n",
      "145: ETFRHO.JO not available in database\n",
      "146: ETFSAP.JO not available in database\n",
      "147: ETFSWX.JO not available in database\n",
      "148: ETFT40.JO not available in database\n",
      "149: ETFWLD.JO not available in database\n",
      "150: ETO.JO not available in database\n",
      "151: EUZ.JO not available in database\n",
      "152: EXP.JO not available in database\n",
      "155: FDP.JO not available in database\n",
      "156: FFA.JO not available in database\n",
      "157: FFB.JO not available in database\n",
      "158: FGL.JO not available in database\n",
      "159: FNBGSA.JO not available in database\n",
      "160: FNBGSE.JO not available in database\n",
      "161: FSE.JO not available in database\n",
      "162: FSEO1.JO not available in database\n",
      "163: FSR.JO not available in database\n",
      "164: FSRP.JO not available in database\n",
      "165: FVT.JO not available in database\n",
      "166: GAI.JO not available in database\n",
      "168: GIVISA.JO not available in database\n",
      "169: GLD.JO not available in database\n",
      "170: GLI.JO not available in database\n",
      "172: GLODIV.JO not available in database\n",
      "173: GLPROP.JO not available in database\n",
      "175: GND.JO not available in database\n",
      "176: GNDP.JO not available in database\n",
      "178: GRT.JO not available in database\n",
      "184: HET.JO not available in database\n",
      "185: HIL.JO not available in database\n",
      "186: HLM.JO not available in database\n",
      "187: HMN.JO not available in database\n",
      "188: HPB.JO not available in database\n",
      "189: HPR.JO not available in database\n",
      "190: HUG.JO not available in database\n",
      "191: HUL.JO not available in database\n",
      "192: HWA.JO not available in database\n",
      "194: IAP.JO not available in database\n",
      "195: IBLUSD.JO not available in database\n",
      "196: IBLVR2.JO not available in database\n",
      "197: IBLVR3.JO not available in database\n",
      "198: IBRP1.JO not available in database\n",
      "199: IBRP2.JO not available in database\n",
      "200: IDQ.JO not available in database\n",
      "201: ILE.JO not available in database\n",
      "202: ILU.JO not available in database\n",
      "203: IMCB22.JO not available in database\n",
      "204: IMP.JO not available in database\n",
      "206: INLP.JO not available in database\n",
      "207: INP.JO not available in database\n",
      "208: INPP.JO not available in database\n",
      "209: INPPR.JO not available in database\n",
      "210: INPR.JO not available in database\n",
      "213: ISA.JO not available in database\n",
      "214: ISB.JO not available in database\n",
      "217: IVTP.JO not available in database\n",
      "218: JBL.JO not available in database\n",
      "219: JSC.JO not available in database\n",
      "220: JSE.JO not available in database\n",
      "221: KAL.JO not available in database\n",
      "223: KBO.JO not available in database\n",
      "224: KCCGLD.JO not available in database\n",
      "225: KDV.JO not available in database\n",
      "227: KP2.JO not available in database\n",
      "229: L2D.JO not available in database\n",
      "231: LAB.JO not available in database\n",
      "232: LBH.JO not available in database\n",
      "233: LBHP.JO not available in database\n",
      "234: LBR.JO not available in database\n",
      "235: LEW.JO not available in database\n",
      "237: LNF.JO not available in database\n",
      "238: LTE.JO not available in database\n",
      "239: LUX.JO not available in database\n",
      "240: MAPPSG.JO not available in database\n",
      "241: MAPPSP.JO not available in database\n",
      "242: MCG.JO not available in database\n",
      "243: MCZ.JO not available in database\n",
      "245: MED.JO not available in database\n",
      "247: MFL.JO not available in database\n",
      "249: MLE.JO not available in database\n",
      "250: MMP.JO not available in database\n",
      "251: MNK.JO not available in database\n",
      "254: MRF.JO not available in database\n",
      "255: MRI.JO not available in database\n",
      "256: MRP.JO not available in database\n",
      "257: MSM.JO not available in database\n",
      "259: MST.JO not available in database\n",
      "260: MTA.JO not available in database\n",
      "261: MTH.JO not available in database\n",
      "262: MTM.JO not available in database\n",
      "263: MTN.JO not available in database\n",
      "264: MTNZF.JO not available in database\n",
      "265: MUR.JO not available in database\n",
      "266: MZR.JO not available in database\n",
      "268: NBKP.JO not available in database\n",
      "269: NCS.JO not available in database\n",
      "270: NED.JO not available in database\n",
      "271: NEWEUR.JO not available in database\n",
      "272: NEWGBP.JO not available in database\n",
      "273: NEWPLT.JO not available in database\n",
      "274: NEWSLV.JO not available in database\n",
      "275: NEWUSD.JO not available in database\n",
      "276: NFEDEF.JO not available in database\n",
      "277: NFEHGE.JO not available in database\n",
      "278: NFEMOD.JO not available in database\n",
      "279: NFEMOM.JO not available in database\n",
      "280: NFEVAL.JO not available in database\n",
      "281: NFEVOL.JO not available in database\n",
      "282: NFGOVI.JO not available in database\n",
      "283: NFILBI.JO not available in database\n"
     ]
    },
    {
     "name": "stdout",
     "output_type": "stream",
     "text": [
      "284: NFNAMB.JO not available in database\n",
      "285: NFP.JO not available in database\n",
      "286: NFSH40.JO not available in database\n",
      "287: NFTRCI.JO not available in database\n",
      "288: NGPLD.JO not available in database\n",
      "289: NGPLT.JO not available in database\n",
      "291: NPK.JO not available in database\n",
      "292: NPKP.JO not available in database\n",
      "293: NPN.JO not available in database\n",
      "294: NPP1.JO not available in database\n",
      "295: NRL.JO not available in database\n",
      "297: NT1.JO not available in database\n",
      "299: NTCP.JO not available in database\n",
      "300: NUT.JO not available in database\n",
      "301: NVE.JO not available in database\n",
      "302: NVS.JO not available in database\n",
      "303: NWL.JO not available in database\n",
      "304: NY1.JO not available in database\n",
      "305: OAO.JO not available in database\n",
      "306: OAS.JO not available in database\n",
      "312: ORN.JO not available in database\n",
      "314: PBG.JO not available in database\n",
      "315: PEM.JO not available in database\n",
      "316: PFB.JO not available in database\n",
      "317: PGFP.JO not available in database\n",
      "319: PHM.JO not available in database\n",
      "321: PMV.JO not available in database\n",
      "322: PPC.JO not available in database\n",
      "323: PPE.JO not available in database\n",
      "325: PPR.JO not available in database\n",
      "326: PREFTX.JO not available in database\n",
      "329: PSV.JO not available in database\n",
      "330: QFH.JO not available in database\n",
      "332: RACP.JO not available in database\n",
      "335: RBPCB.JO not available in database\n",
      "339: RDI.JO not available in database\n",
      "340: REA.JO not available in database\n",
      "341: REB.JO not available in database\n",
      "343: REN.JO not available in database\n",
      "346: RHB.JO not available in database\n",
      "347: RLO.JO not available in database\n",
      "350: RNG.JO not available in database\n",
      "352: RPL.JO not available in database\n",
      "353: RSG.JO not available in database\n",
      "354: RTN.JO not available in database\n",
      "355: RTO.JO not available in database\n",
      "356: RTOP.JO not available in database\n",
      "357: S32.JO not available in database\n",
      "358: SAC.JO not available in database\n",
      "360: SAR.JO not available in database\n",
      "361: SBACOP.JO not available in database\n",
      "362: SBACRN.JO not available in database\n",
      "363: SBAOIL.JO not available in database\n",
      "364: SBAWHT.JO not available in database\n",
      "365: SBK.JO not available in database\n",
      "366: SBKP.JO not available in database\n",
      "367: SBP.JO not available in database\n",
      "368: SBPP.JO not available in database\n",
      "369: SCD.JO not available in database\n",
      "370: SCP.JO not available in database\n",
      "371: SDO.JO not available in database\n",
      "372: SEA.JO not available in database\n",
      "373: SEB.JO not available in database\n",
      "374: SEP.JO not available in database\n",
      "375: SFN.JO not available in database\n",
      "376: SFNP.JO not available in database\n",
      "377: SHFF.JO not available in database\n",
      "378: SHG.JO not available in database\n",
      "380: SLM.JO not available in database\n",
      "381: SMART.JO not available in database\n",
      "382: SNH.JO not available in database\n",
      "384: SNV.JO not available in database\n",
      "385: SOH.JO not available in database\n",
      "387: SOLBE1.JO not available in database\n",
      "388: SPA.JO not available in database\n",
      "389: SPG.JO not available in database\n",
      "392: SSK.JO not available in database\n",
      "396: STX40.JO not available in database\n",
      "397: STX500.JO not available in database\n",
      "398: STXCHN.JO not available in database\n",
      "399: STXDIV.JO not available in database\n",
      "400: STXEMG.JO not available in database\n",
      "401: STXFIN.JO not available in database\n",
      "402: STXGBD.JO not available in database\n",
      "403: STXGOV.JO not available in database\n",
      "404: STXILB.JO not available in database\n",
      "405: STXIND.JO not available in database\n",
      "406: STXMMT.JO not available in database\n",
      "407: STXNDQ.JO not available in database\n",
      "408: STXPRO.JO not available in database\n",
      "409: STXQUA.JO not available in database\n",
      "410: STXRAF.JO not available in database\n",
      "411: STXRES.JO not available in database\n",
      "412: STXSWX.JO not available in database\n",
      "413: STXWDM.JO not available in database\n",
      "414: SUI.JO not available in database\n",
      "416: SVB.JO not available in database\n",
      "417: SWXTR2.JO not available in database\n",
      "418: SYG.JO not available in database\n",
      "419: SYG4IR.JO not available in database\n",
      "420: SYG500.JO not available in database\n",
      "421: SYGEU.JO not available in database\n",
      "422: SYGJP.JO not available in database\n",
      "423: SYGP.JO not available in database\n",
      "424: SYGSW4.JO not available in database\n",
      "425: SYGT40.JO not available in database\n",
      "426: SYGUK.JO not available in database\n",
      "427: SYGUS.JO not available in database\n",
      "428: SYGWD.JO not available in database\n",
      "429: TBG.JO not available in database\n",
      "430: TBS.JO not available in database\n",
      "432: TCS.JO not available in database\n",
      "433: TDH.JO not available in database\n",
      "434: TDHBP.JO not available in database\n",
      "435: TEX.JO not available in database\n",
      "436: TFG.JO not available in database\n",
      "437: TFGP.JO not available in database\n",
      "438: TGO.JO not available in database\n",
      "439: THA.JO not available in database\n",
      "441: TLM.JO not available in database\n",
      "442: TMT.JO not available in database\n",
      "443: TON.JO not available in database\n",
      "444: TOPTR2.JO not available in database\n",
      "445: TPC.JO not available in database\n",
      "446: TPF.JO not available in database\n",
      "447: TRE.JO not available in database\n",
      "448: TRL.JO not available in database\n",
      "450: TSG.JO not available in database\n",
      "451: TTO.JO not available in database\n",
      "454: UABCPA.JO not available in database\n",
      "455: UABSPA.JO not available in database\n",
      "456: UAT.JO not available in database\n",
      "457: UCP.JO not available in database\n",
      "458: UEFPCA.JO not available in database\n",
      "459: UEFPCB.JO not available in database\n",
      "460: UEXGEP.JO not available in database\n",
      "461: UMMIEA.JO not available in database\n",
      "462: UMMIEB.JO not available in database\n",
      "463: UMMIES.JO not available in database\n",
      "464: UPL.JO not available in database\n",
      "465: URETGP.JO not available in database\n",
      "466: USQCPA.JO not available in database\n",
      "467: VIS.JO not available in database\n",
      "471: VUN.JO not available in database\n",
      "472: VVO.JO not available in database\n",
      "473: WBO.JO not available in database\n",
      "474: WEA.JO not available in database\n",
      "475: WEZ.JO not available in database\n",
      "477: WKF.JO not available in database\n",
      "478: WSL.JO not available in database\n",
      "479: YRK.JO not available in database\n",
      "480: YYLBEE.JO not available in database\n",
      "481: ZCL.JO not available in database\n"
     ]
    }
   ],
   "source": [
    "Sector = {}\n",
    "for i, symbol in enumerate(Companies['symbol']):\n",
    "    try:\n",
    "        \n",
    "        instance = yf.Ticker(symbol)\n",
    "        Sector[symbol] = instance.info['sector']\n",
    "        \n",
    "    except Exception:\n",
    "        print(f'{i}: {symbol} not available in database')"
   ]
  },
  {
   "cell_type": "code",
   "execution_count": 9,
   "metadata": {
    "ExecuteTime": {
     "end_time": "2020-08-25T01:27:24.229055Z",
     "start_time": "2020-08-25T01:19:36.248575Z"
    },
    "tags": []
   },
   "outputs": [
    {
     "name": "stdout",
     "output_type": "stream",
     "text": [
      "0: 4ANWK.JO not available in database\n",
      "103: CVW.JO not available in database\n",
      "118: ECSD.JO not available in database\n",
      "119: ECSD7.JO not available in database\n",
      "120: ECSG.JO not available in database\n",
      "121: ECSP1.JO not available in database\n",
      "122: ECSP21.JO not available in database\n",
      "123: ECSP24.JO not available in database\n",
      "136: ERN.JO not available in database\n",
      "155: FDP.JO not available in database\n",
      "161: FSE.JO not available in database\n",
      "162: FSEO1.JO not available in database\n",
      "199: IBRP2.JO not available in database\n",
      "203: IMCB22.JO not available in database\n",
      "245: MED.JO not available in database\n",
      "255: MRI.JO not available in database\n",
      "286: NFSH40.JO not available in database\n",
      "292: NPKP.JO not available in database\n",
      "294: NPP1.JO not available in database\n",
      "301: NVE.JO not available in database\n",
      "302: NVS.JO not available in database\n",
      "335: RBPCB.JO not available in database\n",
      "339: RDI.JO not available in database\n",
      "347: RLO.JO not available in database\n",
      "352: RPL.JO not available in database\n",
      "357: S32.JO not available in database\n",
      "372: SEA.JO not available in database\n",
      "377: SHFF.JO not available in database\n",
      "387: SOLBE1.JO not available in database\n",
      "399: STXDIV.JO not available in database\n",
      "403: STXGOV.JO not available in database\n",
      "425: SYGT40.JO not available in database\n",
      "426: SYGUK.JO not available in database\n",
      "432: TCS.JO not available in database\n",
      "434: TDHBP.JO not available in database\n",
      "435: TEX.JO not available in database\n",
      "436: TFG.JO not available in database\n",
      "446: TPF.JO not available in database\n",
      "447: TRE.JO not available in database\n",
      "459: UEFPCB.JO not available in database\n",
      "460: UEXGEP.JO not available in database\n",
      "467: VIS.JO not available in database\n",
      "472: VVO.JO not available in database\n",
      "473: WBO.JO not available in database\n",
      "484: JSE Code.JO not available in database\n"
     ]
    }
   ],
   "source": [
    "Prices = {}\n",
    "symbols = Companies['JSE Code']\n",
    "start = datetime(2015, 1, 1).date()\n",
    "end = end = datetime.now().date()\n",
    "\n",
    "\n",
    "symbols_not_found = []\n",
    "\n",
    "for i, symbol in enumerate(symbols):\n",
    "    try:\n",
    "\n",
    "        data = web.DataReader(\n",
    "            name = symbol, \n",
    "            data_source = 'yahoo',\n",
    "            start = start,\n",
    "            end = end)\\\n",
    "            .rename(columns = {'Open': 'open',\n",
    "                               'High': 'high',\n",
    "                               'Low': 'low',\n",
    "                               'Close': 'close',\n",
    "                               'Adj Close': 'adj_close',\n",
    "                               'Volume': 'volume'})\n",
    "\n",
    "        Prices[symbol] = data\n",
    "    except Exception:\n",
    "        symbols_not_found.append(symbol)\n",
    "        print(f'{i}: {symbol} not available in database')"
   ]
  },
  {
   "cell_type": "code",
   "execution_count": 10,
   "metadata": {
    "ExecuteTime": {
     "end_time": "2020-08-25T01:27:24.234574Z",
     "start_time": "2020-08-25T01:27:24.231222Z"
    }
   },
   "outputs": [
    {
     "data": {
      "text/plain": [
       "440"
      ]
     },
     "execution_count": 10,
     "metadata": {},
     "output_type": "execute_result"
    }
   ],
   "source": [
    "len(Prices.keys())"
   ]
  },
  {
   "cell_type": "code",
   "execution_count": 11,
   "metadata": {
    "ExecuteTime": {
     "end_time": "2020-08-25T01:27:24.476198Z",
     "start_time": "2020-08-25T01:27:24.236306Z"
    }
   },
   "outputs": [],
   "source": [
    "Companies.to_pickle('Companies.pkl')"
   ]
  },
  {
   "cell_type": "code",
   "execution_count": 12,
   "metadata": {
    "ExecuteTime": {
     "end_time": "2020-08-25T01:27:25.124971Z",
     "start_time": "2020-08-25T01:27:24.477633Z"
    }
   },
   "outputs": [],
   "source": [
    "import pickle\n",
    "pickle.dump(Prices, open('Prices.pkl', 'wb'))"
   ]
  },
  {
   "cell_type": "code",
   "execution_count": null,
   "metadata": {},
   "outputs": [],
   "source": []
  }
 ],
 "metadata": {
  "kernelspec": {
   "display_name": "Python 3",
   "language": "python",
   "name": "python3"
  },
  "language_info": {
   "codemirror_mode": {
    "name": "ipython",
    "version": 3
   },
   "file_extension": ".py",
   "mimetype": "text/x-python",
   "name": "python",
   "nbconvert_exporter": "python",
   "pygments_lexer": "ipython3",
   "version": "3.6.10"
  },
  "latex_envs": {
   "LaTeX_envs_menu_present": true,
   "autoclose": false,
   "autocomplete": true,
   "bibliofile": "biblio.bib",
   "cite_by": "apalike",
   "current_citInitial": 1,
   "eqLabelWithNumbers": true,
   "eqNumInitial": 1,
   "hotkeys": {
    "equation": "Ctrl-E",
    "itemize": "Ctrl-I"
   },
   "labels_anchors": false,
   "latex_user_defs": false,
   "report_style_numbering": false,
   "user_envs_cfg": false
  },
  "toc": {
   "base_numbering": 1,
   "nav_menu": {},
   "number_sections": true,
   "sideBar": true,
   "skip_h1_title": false,
   "title_cell": "Table of Contents",
   "title_sidebar": "Contents",
   "toc_cell": false,
   "toc_position": {},
   "toc_section_display": true,
   "toc_window_display": false
  }
 },
 "nbformat": 4,
 "nbformat_minor": 4
}

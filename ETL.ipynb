{
 "cells": [
  {
   "cell_type": "code",
   "execution_count": 1,
   "metadata": {
    "ExecuteTime": {
     "end_time": "2020-08-19T23:33:56.908051Z",
     "start_time": "2020-08-19T23:33:56.018937Z"
    }
   },
   "outputs": [],
   "source": [
    "import pandas as pd\n",
    "import pandas_datareader.data as web\n",
    "import requests\n",
    "from bs4 import BeautifulSoup\n",
    "from datetime import datetime"
   ]
  },
  {
   "cell_type": "code",
   "execution_count": 2,
   "metadata": {
    "ExecuteTime": {
     "end_time": "2020-08-19T23:33:59.129479Z",
     "start_time": "2020-08-19T23:33:57.882961Z"
    }
   },
   "outputs": [],
   "source": [
    "url = 'https://www.sashares.co.za/shares-list/#gs.dct9y1'\n",
    "response = requests.get(url)"
   ]
  },
  {
   "cell_type": "code",
   "execution_count": 3,
   "metadata": {
    "ExecuteTime": {
     "end_time": "2020-08-19T23:34:09.534663Z",
     "start_time": "2020-08-19T23:34:09.257298Z"
    }
   },
   "outputs": [],
   "source": [
    "website = response.text\n",
    "soup = BeautifulSoup(website, features = \"lxml\")\n",
    "table = soup.find('table')"
   ]
  },
  {
   "cell_type": "code",
   "execution_count": 5,
   "metadata": {
    "ExecuteTime": {
     "end_time": "2020-08-19T23:34:18.164576Z",
     "start_time": "2020-08-19T23:34:18.154884Z"
    },
    "tags": []
   },
   "outputs": [
    {
     "name": "stdout",
     "output_type": "stream",
     "text": [
      "(486, 2)\n"
     ]
    }
   ],
   "source": [
    "rows = len(table.findAll('tr')) - 1\n",
    "columns = 2 #len(table.findAll('tr')[0])\n",
    "print((rows, columns))"
   ]
  },
  {
   "cell_type": "code",
   "execution_count": 6,
   "metadata": {
    "ExecuteTime": {
     "end_time": "2020-08-19T23:34:22.768070Z",
     "start_time": "2020-08-19T23:34:22.747406Z"
    },
    "tags": []
   },
   "outputs": [
    {
     "data": {
      "text/plain": [
       "['JSE Code', 'Share']"
      ]
     },
     "execution_count": 6,
     "metadata": {},
     "output_type": "execute_result"
    }
   ],
   "source": [
    "col_names = [table.findAll('tr')[0].find_all('th')[i].text for i in range(columns)]\n",
    "col_names"
   ]
  },
  {
   "cell_type": "code",
   "execution_count": 9,
   "metadata": {
    "ExecuteTime": {
     "end_time": "2020-08-19T23:34:54.253852Z",
     "start_time": "2020-08-19T23:34:48.870747Z"
    },
    "tags": []
   },
   "outputs": [],
   "source": [
    "companies_dict = {col: [] for col in col_names}\n",
    "\n",
    "for col in range(columns):\n",
    "    for row in range(1, rows + 1):\n",
    "        \n",
    "        if col == 1:\n",
    "            value = table.findAll('tr')[row].find_all('td')[col].text\n",
    "            companies_dict[col_names[col]].append(value)\n",
    "        elif col == 0:\n",
    "            value = table.findAll('tr')[row].find_all('td')[col].text.split('.')[0]\n",
    "            companies_dict[col_names[col]].append(value + '.JO')"
   ]
  },
  {
   "cell_type": "code",
   "execution_count": 10,
   "metadata": {
    "ExecuteTime": {
     "end_time": "2020-08-19T23:34:55.273349Z",
     "start_time": "2020-08-19T23:34:55.264767Z"
    }
   },
   "outputs": [
    {
     "data": {
      "text/html": [
       "<div>\n",
       "<style scoped>\n",
       "    .dataframe tbody tr th:only-of-type {\n",
       "        vertical-align: middle;\n",
       "    }\n",
       "\n",
       "    .dataframe tbody tr th {\n",
       "        vertical-align: top;\n",
       "    }\n",
       "\n",
       "    .dataframe thead th {\n",
       "        text-align: right;\n",
       "    }\n",
       "</style>\n",
       "<table border=\"1\" class=\"dataframe\">\n",
       "  <thead>\n",
       "    <tr style=\"text-align: right;\">\n",
       "      <th></th>\n",
       "      <th>JSE Code</th>\n",
       "      <th>Share</th>\n",
       "    </tr>\n",
       "  </thead>\n",
       "  <tbody>\n",
       "    <tr>\n",
       "      <th>0</th>\n",
       "      <td>4SI.JO</td>\n",
       "      <td>4SIGHT</td>\n",
       "    </tr>\n",
       "    <tr>\n",
       "      <th>1</th>\n",
       "      <td>ABG.JO</td>\n",
       "      <td>ABSA</td>\n",
       "    </tr>\n",
       "    <tr>\n",
       "      <th>2</th>\n",
       "      <td>ABSP.JO</td>\n",
       "      <td>ABSABANK-P</td>\n",
       "    </tr>\n",
       "    <tr>\n",
       "      <th>3</th>\n",
       "      <td>ACE.JO</td>\n",
       "      <td>ACCENT</td>\n",
       "    </tr>\n",
       "    <tr>\n",
       "      <th>4</th>\n",
       "      <td>ACG.JO</td>\n",
       "      <td>ANCHOR</td>\n",
       "    </tr>\n",
       "    <tr>\n",
       "      <th>...</th>\n",
       "      <td>...</td>\n",
       "      <td>...</td>\n",
       "    </tr>\n",
       "    <tr>\n",
       "      <th>481</th>\n",
       "      <td>YYLBEE.JO</td>\n",
       "      <td>YEBOYETHU</td>\n",
       "    </tr>\n",
       "    <tr>\n",
       "      <th>482</th>\n",
       "      <td>ZCL.JO</td>\n",
       "      <td>ZARCLEAR</td>\n",
       "    </tr>\n",
       "    <tr>\n",
       "      <th>483</th>\n",
       "      <td>ZED.JO</td>\n",
       "      <td>ZEDER</td>\n",
       "    </tr>\n",
       "    <tr>\n",
       "      <th>484</th>\n",
       "      <td>ZPLP.JO</td>\n",
       "      <td>ZPLP</td>\n",
       "    </tr>\n",
       "    <tr>\n",
       "      <th>485</th>\n",
       "      <td>JSE Code.JO</td>\n",
       "      <td>Share</td>\n",
       "    </tr>\n",
       "  </tbody>\n",
       "</table>\n",
       "<p>486 rows × 2 columns</p>\n",
       "</div>"
      ],
      "text/plain": [
       "        JSE Code       Share\n",
       "0         4SI.JO      4SIGHT\n",
       "1         ABG.JO        ABSA\n",
       "2        ABSP.JO  ABSABANK-P\n",
       "3         ACE.JO      ACCENT\n",
       "4         ACG.JO      ANCHOR\n",
       "..           ...         ...\n",
       "481    YYLBEE.JO   YEBOYETHU\n",
       "482       ZCL.JO    ZARCLEAR\n",
       "483       ZED.JO       ZEDER\n",
       "484      ZPLP.JO        ZPLP\n",
       "485  JSE Code.JO       Share\n",
       "\n",
       "[486 rows x 2 columns]"
      ]
     },
     "execution_count": 10,
     "metadata": {},
     "output_type": "execute_result"
    }
   ],
   "source": [
    "Companies = pd.DataFrame.from_dict(companies_dict)\n",
    "Companies"
   ]
  },
  {
   "cell_type": "code",
   "execution_count": 12,
   "metadata": {
    "ExecuteTime": {
     "end_time": "2020-08-19T23:40:33.747538Z",
     "start_time": "2020-08-19T23:35:34.410422Z"
    },
    "tags": []
   },
   "outputs": [
    {
     "name": "stdout",
     "output_type": "stream",
     "text": [
      "103: CVW.JO not available in database\n",
      "118: ECSD.JO not available in database\n",
      "119: ECSD7.JO not available in database\n",
      "120: ECSG.JO not available in database\n",
      "121: ECSP1.JO not available in database\n",
      "122: ECSP21.JO not available in database\n",
      "123: ECSP24.JO not available in database\n",
      "136: ERN.JO not available in database\n",
      "155: FDP.JO not available in database\n",
      "161: FSE.JO not available in database\n",
      "162: FSEO1.JO not available in database\n",
      "196: IBLVR2.JO not available in database\n",
      "199: IBRP2.JO not available in database\n",
      "203: IMCB22.JO not available in database\n",
      "219: JBL.JO not available in database\n",
      "228: KP2.JO not available in database\n",
      "236: LEW.JO not available in database\n",
      "238: LNF.JO not available in database\n",
      "240: LUX.JO not available in database\n",
      "243: MCG.JO not available in database\n",
      "246: MED.JO not available in database\n",
      "255: MRF.JO not available in database\n",
      "256: MRI.JO not available in database\n",
      "261: MTA.JO not available in database\n",
      "262: MTH.JO not available in database\n",
      "264: MTN.JO not available in database\n",
      "265: MTNZF.JO not available in database\n",
      "287: NFSH40.JO not available in database\n",
      "295: NPP1.JO not available in database\n",
      "302: NVE.JO not available in database\n",
      "303: NVS.JO not available in database\n",
      "336: RBPCB.JO not available in database\n",
      "340: RDI.JO not available in database\n",
      "348: RLO.JO not available in database\n",
      "353: RPL.JO not available in database\n",
      "358: S32.JO not available in database\n",
      "373: SEA.JO not available in database\n",
      "378: SHFF.JO not available in database\n",
      "388: SOLBE1.JO not available in database\n",
      "400: STXDIV.JO not available in database\n",
      "404: STXGOV.JO not available in database\n",
      "426: SYGT40.JO not available in database\n",
      "427: SYGUK.JO not available in database\n",
      "433: TCS.JO not available in database\n",
      "435: TDHBP.JO not available in database\n",
      "436: TEX.JO not available in database\n",
      "437: TFG.JO not available in database\n",
      "447: TPF.JO not available in database\n",
      "448: TRE.JO not available in database\n",
      "460: UEFPCB.JO not available in database\n",
      "461: UEXGEP.JO not available in database\n",
      "468: VIS.JO not available in database\n",
      "473: VVO.JO not available in database\n",
      "474: WBO.JO not available in database\n",
      "485: JSE Code.JO not available in database\n"
     ]
    }
   ],
   "source": [
    "Prices = {}\n",
    "symbols = Companies['JSE Code']\n",
    "start = datetime(2015, 1, 1).date()\n",
    "end = end = datetime.now().date()\n",
    "\n",
    "\n",
    "symbols_not_found = []\n",
    "\n",
    "for i, symbol in enumerate(symbols):\n",
    "    try:\n",
    "\n",
    "        data = web.DataReader(\n",
    "            name = symbol, \n",
    "            data_source = 'yahoo',\n",
    "            start = start,\n",
    "            end = end)\\\n",
    "            .rename(columns = {'Open': 'open',\n",
    "                               'High': 'high',\n",
    "                               'Low': 'low',\n",
    "                               'Close': 'close',\n",
    "                               'Adj Close': 'adj_close',\n",
    "                               'Volume': 'volume'})\n",
    "\n",
    "        Prices[symbol] = data\n",
    "    except Exception:\n",
    "        symbols_not_found.append(symbol)\n",
    "        print(f'{i}: {symbol} not available in database')"
   ]
  },
  {
   "cell_type": "code",
   "execution_count": 13,
   "metadata": {
    "ExecuteTime": {
     "end_time": "2020-08-19T23:40:36.490625Z",
     "start_time": "2020-08-19T23:40:36.487562Z"
    }
   },
   "outputs": [
    {
     "data": {
      "text/plain": [
       "431"
      ]
     },
     "execution_count": 13,
     "metadata": {},
     "output_type": "execute_result"
    }
   ],
   "source": [
    "len(Prices.keys())"
   ]
  },
  {
   "cell_type": "code",
   "execution_count": 14,
   "metadata": {
    "ExecuteTime": {
     "end_time": "2020-08-19T23:40:38.910955Z",
     "start_time": "2020-08-19T23:40:38.907927Z"
    }
   },
   "outputs": [],
   "source": [
    "Companies.to_pickle('Companies.pkl')"
   ]
  },
  {
   "cell_type": "code",
   "execution_count": 15,
   "metadata": {
    "ExecuteTime": {
     "end_time": "2020-08-19T23:40:41.061991Z",
     "start_time": "2020-08-19T23:40:40.952319Z"
    }
   },
   "outputs": [],
   "source": [
    "import pickle\n",
    "pickle.dump(Prices, open('Prices.pkl', 'wb'))"
   ]
  }
 ],
 "metadata": {
  "kernelspec": {
   "display_name": "Python 3",
   "language": "python",
   "name": "python3"
  },
  "language_info": {
   "codemirror_mode": {
    "name": "ipython",
    "version": 3
   },
   "file_extension": ".py",
   "mimetype": "text/x-python",
   "name": "python",
   "nbconvert_exporter": "python",
   "pygments_lexer": "ipython3",
   "version": "3.7.6"
  },
  "latex_envs": {
   "LaTeX_envs_menu_present": true,
   "autoclose": false,
   "autocomplete": true,
   "bibliofile": "biblio.bib",
   "cite_by": "apalike",
   "current_citInitial": 1,
   "eqLabelWithNumbers": true,
   "eqNumInitial": 1,
   "hotkeys": {
    "equation": "Ctrl-E",
    "itemize": "Ctrl-I"
   },
   "labels_anchors": false,
   "latex_user_defs": false,
   "report_style_numbering": false,
   "user_envs_cfg": false
  },
  "toc": {
   "base_numbering": 1,
   "nav_menu": {},
   "number_sections": true,
   "sideBar": true,
   "skip_h1_title": false,
   "title_cell": "Table of Contents",
   "title_sidebar": "Contents",
   "toc_cell": false,
   "toc_position": {},
   "toc_section_display": true,
   "toc_window_display": false
  }
 },
 "nbformat": 4,
 "nbformat_minor": 4
}

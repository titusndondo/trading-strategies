{
 "cells": [
  {
   "cell_type": "code",
   "execution_count": 1,
   "metadata": {
    "ExecuteTime": {
     "end_time": "2020-08-25T01:19:19.190559Z",
     "start_time": "2020-08-25T01:19:18.489300Z"
    }
   },
   "outputs": [],
   "source": [
    "import pandas as pd\n",
    "import pandas_datareader.data as web\n",
    "import requests\n",
    "from bs4 import BeautifulSoup\n",
    "from datetime import datetime"
   ]
  },
  {
   "cell_type": "code",
   "execution_count": 2,
   "metadata": {
    "ExecuteTime": {
     "end_time": "2020-08-25T01:19:21.873846Z",
     "start_time": "2020-08-25T01:19:21.870897Z"
    },
    "tags": []
   },
   "outputs": [
    {
     "name": "stdout",
     "output_type": "stream",
     "text": [
      "0.20.3\n"
     ]
    }
   ],
   "source": [
    "print(pd.__version__)"
   ]
  },
  {
   "cell_type": "code",
   "execution_count": 3,
   "metadata": {
    "ExecuteTime": {
     "end_time": "2020-08-25T01:19:26.352016Z",
     "start_time": "2020-08-25T01:19:25.107281Z"
    }
   },
   "outputs": [],
   "source": [
    "url = 'https://www.sashares.co.za/shares-list/#gs.dct9y1'\n",
    "response = requests.get(url)"
   ]
  },
  {
   "cell_type": "code",
   "execution_count": 4,
   "metadata": {
    "ExecuteTime": {
     "end_time": "2020-08-25T01:19:27.891295Z",
     "start_time": "2020-08-25T01:19:27.623473Z"
    }
   },
   "outputs": [],
   "source": [
    "website = response.text\n",
    "soup = BeautifulSoup(website, features = \"lxml\")\n",
    "table = soup.find('table')"
   ]
  },
  {
   "cell_type": "code",
   "execution_count": 5,
   "metadata": {
    "ExecuteTime": {
     "end_time": "2020-08-25T01:19:28.754932Z",
     "start_time": "2020-08-25T01:19:28.744866Z"
    },
    "tags": []
   },
   "outputs": [
    {
     "name": "stdout",
     "output_type": "stream",
     "text": [
      "(485, 2)\n"
     ]
    }
   ],
   "source": [
    "rows = len(table.findAll('tr')) - 1\n",
    "columns = 2 #len(table.findAll('tr')[0])\n",
    "print((rows, columns))"
   ]
  },
  {
   "cell_type": "code",
   "execution_count": 6,
   "metadata": {
    "ExecuteTime": {
     "end_time": "2020-08-25T01:19:29.558355Z",
     "start_time": "2020-08-25T01:19:29.535898Z"
    },
    "tags": []
   },
   "outputs": [
    {
     "data": {
      "text/plain": [
       "['JSE Code', 'Share']"
      ]
     },
     "execution_count": 6,
     "metadata": {},
     "output_type": "execute_result"
    }
   ],
   "source": [
    "col_names = [table.findAll('tr')[0].find_all('th')[i].text for i in range(columns)]\n",
    "col_names"
   ]
  },
  {
   "cell_type": "code",
   "execution_count": 7,
   "metadata": {
    "ExecuteTime": {
     "end_time": "2020-08-25T01:19:36.231714Z",
     "start_time": "2020-08-25T01:19:30.334625Z"
    },
    "tags": []
   },
   "outputs": [],
   "source": [
    "companies_dict = {col: [] for col in col_names}\n",
    "\n",
    "for col in range(columns):\n",
    "    for row in range(1, rows + 1):\n",
    "        \n",
    "        if col == 1:\n",
    "            value = table.findAll('tr')[row].find_all('td')[col].text\n",
    "            companies_dict[col_names[col]].append(value)\n",
    "        elif col == 0:\n",
    "            value = table.findAll('tr')[row].find_all('td')[col].text.split('.')[0]\n",
    "            companies_dict[col_names[col]].append(value + '.JO')"
   ]
  },
  {
   "cell_type": "code",
   "execution_count": 8,
   "metadata": {
    "ExecuteTime": {
     "end_time": "2020-08-25T01:19:36.247005Z",
     "start_time": "2020-08-25T01:19:36.233225Z"
    }
   },
   "outputs": [
    {
     "data": {
      "text/html": [
       "<div>\n",
       "<style>\n",
       "    .dataframe thead tr:only-child th {\n",
       "        text-align: right;\n",
       "    }\n",
       "\n",
       "    .dataframe thead th {\n",
       "        text-align: left;\n",
       "    }\n",
       "\n",
       "    .dataframe tbody tr th {\n",
       "        vertical-align: top;\n",
       "    }\n",
       "</style>\n",
       "<table border=\"1\" class=\"dataframe\">\n",
       "  <thead>\n",
       "    <tr style=\"text-align: right;\">\n",
       "      <th></th>\n",
       "      <th>JSE Code</th>\n",
       "      <th>Share</th>\n",
       "    </tr>\n",
       "  </thead>\n",
       "  <tbody>\n",
       "    <tr>\n",
       "      <th>0</th>\n",
       "      <td>4ANWK.JO</td>\n",
       "      <td>NWK</td>\n",
       "    </tr>\n",
       "    <tr>\n",
       "      <th>1</th>\n",
       "      <td>4SI.JO</td>\n",
       "      <td>4SIGHT</td>\n",
       "    </tr>\n",
       "    <tr>\n",
       "      <th>2</th>\n",
       "      <td>ABG.JO</td>\n",
       "      <td>ABSA</td>\n",
       "    </tr>\n",
       "    <tr>\n",
       "      <th>3</th>\n",
       "      <td>ABSP.JO</td>\n",
       "      <td>ABSABANK-P</td>\n",
       "    </tr>\n",
       "    <tr>\n",
       "      <th>4</th>\n",
       "      <td>ACE.JO</td>\n",
       "      <td>ACCENT</td>\n",
       "    </tr>\n",
       "    <tr>\n",
       "      <th>5</th>\n",
       "      <td>ACG.JO</td>\n",
       "      <td>ANCHOR</td>\n",
       "    </tr>\n",
       "    <tr>\n",
       "      <th>6</th>\n",
       "      <td>ACL.JO</td>\n",
       "      <td>ARCMITTAL</td>\n",
       "    </tr>\n",
       "    <tr>\n",
       "      <th>7</th>\n",
       "      <td>ACS.JO</td>\n",
       "      <td>ACSION</td>\n",
       "    </tr>\n",
       "    <tr>\n",
       "      <th>8</th>\n",
       "      <td>ACT.JO</td>\n",
       "      <td>AFRO-C</td>\n",
       "    </tr>\n",
       "    <tr>\n",
       "      <th>9</th>\n",
       "      <td>ACZ.JO</td>\n",
       "      <td>ARDENCAP</td>\n",
       "    </tr>\n",
       "    <tr>\n",
       "      <th>10</th>\n",
       "      <td>ADH.JO</td>\n",
       "      <td>ADVTECH</td>\n",
       "    </tr>\n",
       "    <tr>\n",
       "      <th>11</th>\n",
       "      <td>ADI.JO</td>\n",
       "      <td>ADAPTIT</td>\n",
       "    </tr>\n",
       "    <tr>\n",
       "      <th>12</th>\n",
       "      <td>ADR.JO</td>\n",
       "      <td>ADCORP</td>\n",
       "    </tr>\n",
       "    <tr>\n",
       "      <th>13</th>\n",
       "      <td>ADW.JO</td>\n",
       "      <td>AFDAWN</td>\n",
       "    </tr>\n",
       "    <tr>\n",
       "      <th>14</th>\n",
       "      <td>AEE.JO</td>\n",
       "      <td>AEEI</td>\n",
       "    </tr>\n",
       "    <tr>\n",
       "      <th>15</th>\n",
       "      <td>AEG.JO</td>\n",
       "      <td>AVENG</td>\n",
       "    </tr>\n",
       "    <tr>\n",
       "      <th>16</th>\n",
       "      <td>AEL.JO</td>\n",
       "      <td>ALTRON</td>\n",
       "    </tr>\n",
       "    <tr>\n",
       "      <th>17</th>\n",
       "      <td>AFE.JO</td>\n",
       "      <td>AECI</td>\n",
       "    </tr>\n",
       "    <tr>\n",
       "      <th>18</th>\n",
       "      <td>AFEP.JO</td>\n",
       "      <td>AECI 5.5%P</td>\n",
       "    </tr>\n",
       "    <tr>\n",
       "      <th>19</th>\n",
       "      <td>AFH.JO</td>\n",
       "      <td>AFORBES</td>\n",
       "    </tr>\n",
       "    <tr>\n",
       "      <th>20</th>\n",
       "      <td>AFT.JO</td>\n",
       "      <td>AFRIMAT</td>\n",
       "    </tr>\n",
       "    <tr>\n",
       "      <th>21</th>\n",
       "      <td>AFX.JO</td>\n",
       "      <td>AFROX</td>\n",
       "    </tr>\n",
       "    <tr>\n",
       "      <th>22</th>\n",
       "      <td>AGL.JO</td>\n",
       "      <td>ANGLO</td>\n",
       "    </tr>\n",
       "    <tr>\n",
       "      <th>23</th>\n",
       "      <td>AHA.JO</td>\n",
       "      <td>AWAPROPA</td>\n",
       "    </tr>\n",
       "    <tr>\n",
       "      <th>24</th>\n",
       "      <td>AHB.JO</td>\n",
       "      <td>AWAPROPB</td>\n",
       "    </tr>\n",
       "    <tr>\n",
       "      <th>25</th>\n",
       "      <td>AHL.JO</td>\n",
       "      <td>AH-VEST</td>\n",
       "    </tr>\n",
       "    <tr>\n",
       "      <th>26</th>\n",
       "      <td>AIL.JO</td>\n",
       "      <td>ARCINVEST</td>\n",
       "    </tr>\n",
       "    <tr>\n",
       "      <th>27</th>\n",
       "      <td>AIP.JO</td>\n",
       "      <td>ADCOCK</td>\n",
       "    </tr>\n",
       "    <tr>\n",
       "      <th>28</th>\n",
       "      <td>ALH.JO</td>\n",
       "      <td>ALARIS</td>\n",
       "    </tr>\n",
       "    <tr>\n",
       "      <th>29</th>\n",
       "      <td>AME.JO</td>\n",
       "      <td>AME</td>\n",
       "    </tr>\n",
       "    <tr>\n",
       "      <th>...</th>\n",
       "      <td>...</td>\n",
       "      <td>...</td>\n",
       "    </tr>\n",
       "    <tr>\n",
       "      <th>455</th>\n",
       "      <td>UABSPA.JO</td>\n",
       "      <td>UABSPA</td>\n",
       "    </tr>\n",
       "    <tr>\n",
       "      <th>456</th>\n",
       "      <td>UAT.JO</td>\n",
       "      <td>UNION</td>\n",
       "    </tr>\n",
       "    <tr>\n",
       "      <th>457</th>\n",
       "      <td>UCP.JO</td>\n",
       "      <td>UNICORN</td>\n",
       "    </tr>\n",
       "    <tr>\n",
       "      <th>458</th>\n",
       "      <td>UEFPCA.JO</td>\n",
       "      <td>UEFPCA</td>\n",
       "    </tr>\n",
       "    <tr>\n",
       "      <th>459</th>\n",
       "      <td>UEFPCB.JO</td>\n",
       "      <td>UEFPCB</td>\n",
       "    </tr>\n",
       "    <tr>\n",
       "      <th>460</th>\n",
       "      <td>UEXGEP.JO</td>\n",
       "      <td>UEXGEP</td>\n",
       "    </tr>\n",
       "    <tr>\n",
       "      <th>461</th>\n",
       "      <td>UMMIEA.JO</td>\n",
       "      <td>UMMIEA</td>\n",
       "    </tr>\n",
       "    <tr>\n",
       "      <th>462</th>\n",
       "      <td>UMMIEB.JO</td>\n",
       "      <td>UMMIEB</td>\n",
       "    </tr>\n",
       "    <tr>\n",
       "      <th>463</th>\n",
       "      <td>UMMIES.JO</td>\n",
       "      <td>UMMIES</td>\n",
       "    </tr>\n",
       "    <tr>\n",
       "      <th>464</th>\n",
       "      <td>UPL.JO</td>\n",
       "      <td>UPARTNERS</td>\n",
       "    </tr>\n",
       "    <tr>\n",
       "      <th>465</th>\n",
       "      <td>URETGP.JO</td>\n",
       "      <td>URETGP</td>\n",
       "    </tr>\n",
       "    <tr>\n",
       "      <th>466</th>\n",
       "      <td>USQCPA.JO</td>\n",
       "      <td>USQCPA</td>\n",
       "    </tr>\n",
       "    <tr>\n",
       "      <th>467</th>\n",
       "      <td>VIS.JO</td>\n",
       "      <td>VISUAL</td>\n",
       "    </tr>\n",
       "    <tr>\n",
       "      <th>468</th>\n",
       "      <td>VKE.JO</td>\n",
       "      <td>VUKILE</td>\n",
       "    </tr>\n",
       "    <tr>\n",
       "      <th>469</th>\n",
       "      <td>VLE.JO</td>\n",
       "      <td>VALUE</td>\n",
       "    </tr>\n",
       "    <tr>\n",
       "      <th>470</th>\n",
       "      <td>VOD.JO</td>\n",
       "      <td>VODACOM</td>\n",
       "    </tr>\n",
       "    <tr>\n",
       "      <th>471</th>\n",
       "      <td>VUN.JO</td>\n",
       "      <td>VUNANI</td>\n",
       "    </tr>\n",
       "    <tr>\n",
       "      <th>472</th>\n",
       "      <td>VVO.JO</td>\n",
       "      <td>VIVO</td>\n",
       "    </tr>\n",
       "    <tr>\n",
       "      <th>473</th>\n",
       "      <td>WBO.JO</td>\n",
       "      <td>WBHO</td>\n",
       "    </tr>\n",
       "    <tr>\n",
       "      <th>474</th>\n",
       "      <td>WEA.JO</td>\n",
       "      <td>WEARNE</td>\n",
       "    </tr>\n",
       "    <tr>\n",
       "      <th>475</th>\n",
       "      <td>WEZ.JO</td>\n",
       "      <td>WESIZWE</td>\n",
       "    </tr>\n",
       "    <tr>\n",
       "      <th>476</th>\n",
       "      <td>WHL.JO</td>\n",
       "      <td>WOOLIES</td>\n",
       "    </tr>\n",
       "    <tr>\n",
       "      <th>477</th>\n",
       "      <td>WKF.JO</td>\n",
       "      <td>WORKFORCE</td>\n",
       "    </tr>\n",
       "    <tr>\n",
       "      <th>478</th>\n",
       "      <td>WSL.JO</td>\n",
       "      <td>WESCOAL</td>\n",
       "    </tr>\n",
       "    <tr>\n",
       "      <th>479</th>\n",
       "      <td>YRK.JO</td>\n",
       "      <td>YORK</td>\n",
       "    </tr>\n",
       "    <tr>\n",
       "      <th>480</th>\n",
       "      <td>YYLBEE.JO</td>\n",
       "      <td>YEBOYETHU</td>\n",
       "    </tr>\n",
       "    <tr>\n",
       "      <th>481</th>\n",
       "      <td>ZCL.JO</td>\n",
       "      <td>ZARCLEAR</td>\n",
       "    </tr>\n",
       "    <tr>\n",
       "      <th>482</th>\n",
       "      <td>ZED.JO</td>\n",
       "      <td>ZEDER</td>\n",
       "    </tr>\n",
       "    <tr>\n",
       "      <th>483</th>\n",
       "      <td>ZPLP.JO</td>\n",
       "      <td>ZPLP</td>\n",
       "    </tr>\n",
       "    <tr>\n",
       "      <th>484</th>\n",
       "      <td>JSE Code.JO</td>\n",
       "      <td>Share</td>\n",
       "    </tr>\n",
       "  </tbody>\n",
       "</table>\n",
       "<p>485 rows × 2 columns</p>\n",
       "</div>"
      ],
      "text/plain": [
       "        JSE Code       Share\n",
       "0       4ANWK.JO         NWK\n",
       "1         4SI.JO      4SIGHT\n",
       "2         ABG.JO        ABSA\n",
       "3        ABSP.JO  ABSABANK-P\n",
       "4         ACE.JO      ACCENT\n",
       "5         ACG.JO      ANCHOR\n",
       "6         ACL.JO   ARCMITTAL\n",
       "7         ACS.JO      ACSION\n",
       "8         ACT.JO      AFRO-C\n",
       "9         ACZ.JO    ARDENCAP\n",
       "10        ADH.JO     ADVTECH\n",
       "11        ADI.JO     ADAPTIT\n",
       "12        ADR.JO      ADCORP\n",
       "13        ADW.JO      AFDAWN\n",
       "14        AEE.JO        AEEI\n",
       "15        AEG.JO       AVENG\n",
       "16        AEL.JO      ALTRON\n",
       "17        AFE.JO        AECI\n",
       "18       AFEP.JO  AECI 5.5%P\n",
       "19        AFH.JO     AFORBES\n",
       "20        AFT.JO     AFRIMAT\n",
       "21        AFX.JO       AFROX\n",
       "22        AGL.JO       ANGLO\n",
       "23        AHA.JO    AWAPROPA\n",
       "24        AHB.JO    AWAPROPB\n",
       "25        AHL.JO     AH-VEST\n",
       "26        AIL.JO   ARCINVEST\n",
       "27        AIP.JO      ADCOCK\n",
       "28        ALH.JO      ALARIS\n",
       "29        AME.JO         AME\n",
       "..           ...         ...\n",
       "455    UABSPA.JO      UABSPA\n",
       "456       UAT.JO       UNION\n",
       "457       UCP.JO     UNICORN\n",
       "458    UEFPCA.JO      UEFPCA\n",
       "459    UEFPCB.JO      UEFPCB\n",
       "460    UEXGEP.JO      UEXGEP\n",
       "461    UMMIEA.JO      UMMIEA\n",
       "462    UMMIEB.JO      UMMIEB\n",
       "463    UMMIES.JO      UMMIES\n",
       "464       UPL.JO   UPARTNERS\n",
       "465    URETGP.JO      URETGP\n",
       "466    USQCPA.JO      USQCPA\n",
       "467       VIS.JO      VISUAL\n",
       "468       VKE.JO      VUKILE\n",
       "469       VLE.JO       VALUE\n",
       "470       VOD.JO     VODACOM\n",
       "471       VUN.JO      VUNANI\n",
       "472       VVO.JO        VIVO\n",
       "473       WBO.JO        WBHO\n",
       "474       WEA.JO      WEARNE\n",
       "475       WEZ.JO     WESIZWE\n",
       "476       WHL.JO     WOOLIES\n",
       "477       WKF.JO   WORKFORCE\n",
       "478       WSL.JO     WESCOAL\n",
       "479       YRK.JO        YORK\n",
       "480    YYLBEE.JO   YEBOYETHU\n",
       "481       ZCL.JO    ZARCLEAR\n",
       "482       ZED.JO       ZEDER\n",
       "483      ZPLP.JO        ZPLP\n",
       "484  JSE Code.JO       Share\n",
       "\n",
       "[485 rows x 2 columns]"
      ]
     },
     "execution_count": 8,
     "metadata": {},
     "output_type": "execute_result"
    }
   ],
   "source": [
    "Companies = pd.DataFrame.from_dict(companies_dict)\n",
    "Companies"
   ]
  },
  {
   "cell_type": "code",
   "execution_count": 9,
   "metadata": {
    "ExecuteTime": {
     "end_time": "2020-08-25T01:27:24.229055Z",
     "start_time": "2020-08-25T01:19:36.248575Z"
    },
    "tags": []
   },
   "outputs": [
    {
     "name": "stdout",
     "output_type": "stream",
     "text": [
      "0: 4ANWK.JO not available in database\n",
      "103: CVW.JO not available in database\n",
      "118: ECSD.JO not available in database\n",
      "119: ECSD7.JO not available in database\n",
      "120: ECSG.JO not available in database\n",
      "121: ECSP1.JO not available in database\n",
      "122: ECSP21.JO not available in database\n",
      "123: ECSP24.JO not available in database\n",
      "136: ERN.JO not available in database\n",
      "155: FDP.JO not available in database\n",
      "161: FSE.JO not available in database\n",
      "162: FSEO1.JO not available in database\n",
      "199: IBRP2.JO not available in database\n",
      "203: IMCB22.JO not available in database\n",
      "245: MED.JO not available in database\n",
      "255: MRI.JO not available in database\n",
      "286: NFSH40.JO not available in database\n",
      "292: NPKP.JO not available in database\n",
      "294: NPP1.JO not available in database\n",
      "301: NVE.JO not available in database\n",
      "302: NVS.JO not available in database\n",
      "335: RBPCB.JO not available in database\n",
      "339: RDI.JO not available in database\n",
      "347: RLO.JO not available in database\n",
      "352: RPL.JO not available in database\n",
      "357: S32.JO not available in database\n",
      "372: SEA.JO not available in database\n",
      "377: SHFF.JO not available in database\n",
      "387: SOLBE1.JO not available in database\n",
      "399: STXDIV.JO not available in database\n",
      "403: STXGOV.JO not available in database\n",
      "425: SYGT40.JO not available in database\n",
      "426: SYGUK.JO not available in database\n",
      "432: TCS.JO not available in database\n",
      "434: TDHBP.JO not available in database\n",
      "435: TEX.JO not available in database\n",
      "436: TFG.JO not available in database\n",
      "446: TPF.JO not available in database\n",
      "447: TRE.JO not available in database\n",
      "459: UEFPCB.JO not available in database\n",
      "460: UEXGEP.JO not available in database\n",
      "467: VIS.JO not available in database\n",
      "472: VVO.JO not available in database\n",
      "473: WBO.JO not available in database\n",
      "484: JSE Code.JO not available in database\n"
     ]
    }
   ],
   "source": [
    "Prices = {}\n",
    "symbols = Companies['JSE Code']\n",
    "start = datetime(2015, 1, 1).date()\n",
    "end = end = datetime.now().date()\n",
    "\n",
    "\n",
    "symbols_not_found = []\n",
    "\n",
    "for i, symbol in enumerate(symbols):\n",
    "    try:\n",
    "\n",
    "        data = web.DataReader(\n",
    "            name = symbol, \n",
    "            data_source = 'yahoo',\n",
    "            start = start,\n",
    "            end = end)\\\n",
    "            .rename(columns = {'Open': 'open',\n",
    "                               'High': 'high',\n",
    "                               'Low': 'low',\n",
    "                               'Close': 'close',\n",
    "                               'Adj Close': 'adj_close',\n",
    "                               'Volume': 'volume'})\n",
    "\n",
    "        Prices[symbol] = data\n",
    "    except Exception:\n",
    "        symbols_not_found.append(symbol)\n",
    "        print(f'{i}: {symbol} not available in database')"
   ]
  },
  {
   "cell_type": "code",
   "execution_count": 10,
   "metadata": {
    "ExecuteTime": {
     "end_time": "2020-08-25T01:27:24.234574Z",
     "start_time": "2020-08-25T01:27:24.231222Z"
    }
   },
   "outputs": [
    {
     "data": {
      "text/plain": [
       "440"
      ]
     },
     "execution_count": 10,
     "metadata": {},
     "output_type": "execute_result"
    }
   ],
   "source": [
    "len(Prices.keys())"
   ]
  },
  {
   "cell_type": "code",
   "execution_count": 11,
   "metadata": {
    "ExecuteTime": {
     "end_time": "2020-08-25T01:27:24.476198Z",
     "start_time": "2020-08-25T01:27:24.236306Z"
    }
   },
   "outputs": [],
   "source": [
    "Companies.to_pickle('Companies.pkl')"
   ]
  },
  {
   "cell_type": "code",
   "execution_count": 12,
   "metadata": {
    "ExecuteTime": {
     "end_time": "2020-08-25T01:27:25.124971Z",
     "start_time": "2020-08-25T01:27:24.477633Z"
    }
   },
   "outputs": [],
   "source": [
    "import pickle\n",
    "pickle.dump(Prices, open('Prices.pkl', 'wb'))"
   ]
  },
  {
   "cell_type": "code",
   "execution_count": null,
   "metadata": {},
   "outputs": [],
   "source": []
  }
 ],
 "metadata": {
  "kernelspec": {
   "display_name": "Python 3",
   "language": "python",
   "name": "python3"
  },
  "language_info": {
   "codemirror_mode": {
    "name": "ipython",
    "version": 3
   },
   "file_extension": ".py",
   "mimetype": "text/x-python",
   "name": "python",
   "nbconvert_exporter": "python",
   "pygments_lexer": "ipython3",
   "version": "3.6.10"
  },
  "latex_envs": {
   "LaTeX_envs_menu_present": true,
   "autoclose": false,
   "autocomplete": true,
   "bibliofile": "biblio.bib",
   "cite_by": "apalike",
   "current_citInitial": 1,
   "eqLabelWithNumbers": true,
   "eqNumInitial": 1,
   "hotkeys": {
    "equation": "Ctrl-E",
    "itemize": "Ctrl-I"
   },
   "labels_anchors": false,
   "latex_user_defs": false,
   "report_style_numbering": false,
   "user_envs_cfg": false
  },
  "toc": {
   "base_numbering": 1,
   "nav_menu": {},
   "number_sections": true,
   "sideBar": true,
   "skip_h1_title": false,
   "title_cell": "Table of Contents",
   "title_sidebar": "Contents",
   "toc_cell": false,
   "toc_position": {},
   "toc_section_display": true,
   "toc_window_display": false
  }
 },
 "nbformat": 4,
 "nbformat_minor": 4
}

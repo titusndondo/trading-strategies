{
 "cells": [
  {
   "cell_type": "code",
   "execution_count": 11,
   "metadata": {
    "ExecuteTime": {
     "end_time": "2020-10-05T12:46:18.818465Z",
     "start_time": "2020-10-05T12:46:18.815800Z"
    }
   },
   "outputs": [],
   "source": [
    "import pandas as pd\n",
    "import pandas_datareader.data as web\n",
    "import requests\n",
    "from bs4 import BeautifulSoup\n",
    "from datetime import datetime\n",
    "import pickle"
   ]
  },
  {
   "cell_type": "code",
   "execution_count": 2,
   "metadata": {
    "ExecuteTime": {
     "end_time": "2020-10-05T12:35:17.782661Z",
     "start_time": "2020-10-05T12:35:17.779479Z"
    },
    "tags": []
   },
   "outputs": [
    {
     "name": "stdout",
     "output_type": "stream",
     "text": [
      "1.0.4\n"
     ]
    }
   ],
   "source": [
    "print(pd.__version__)"
   ]
  },
  {
   "cell_type": "code",
   "execution_count": 3,
   "metadata": {
    "ExecuteTime": {
     "end_time": "2020-10-05T12:35:19.803651Z",
     "start_time": "2020-10-05T12:35:18.526025Z"
    }
   },
   "outputs": [],
   "source": [
    "url = 'https://www.sashares.co.za/shares-list/#gs.dct9y1'\n",
    "response = requests.get(url)"
   ]
  },
  {
   "cell_type": "code",
   "execution_count": 4,
   "metadata": {
    "ExecuteTime": {
     "end_time": "2020-10-05T12:35:20.019946Z",
     "start_time": "2020-10-05T12:35:19.806035Z"
    }
   },
   "outputs": [],
   "source": [
    "website = response.text\n",
    "soup = BeautifulSoup(website, features = \"lxml\")\n",
    "table = soup.find('table')"
   ]
  },
  {
   "cell_type": "code",
   "execution_count": 5,
   "metadata": {
    "ExecuteTime": {
     "end_time": "2020-10-05T12:35:20.030762Z",
     "start_time": "2020-10-05T12:35:20.021832Z"
    },
    "tags": []
   },
   "outputs": [
    {
     "name": "stdout",
     "output_type": "stream",
     "text": [
      "(506, 2)\n"
     ]
    }
   ],
   "source": [
    "rows = len(table.findAll('tr')) - 1\n",
    "columns = 2 #len(table.findAll('tr')[0])\n",
    "print((rows, columns))"
   ]
  },
  {
   "cell_type": "code",
   "execution_count": 6,
   "metadata": {
    "ExecuteTime": {
     "end_time": "2020-10-05T12:35:20.414543Z",
     "start_time": "2020-10-05T12:35:20.395868Z"
    },
    "tags": []
   },
   "outputs": [
    {
     "data": {
      "text/plain": [
       "['JSE Code', 'Share']"
      ]
     },
     "execution_count": 6,
     "metadata": {},
     "output_type": "execute_result"
    }
   ],
   "source": [
    "col_names = [table.findAll('tr')[0].find_all('th')[i].text for i in range(columns)]\n",
    "col_names"
   ]
  },
  {
   "cell_type": "code",
   "execution_count": 7,
   "metadata": {
    "ExecuteTime": {
     "end_time": "2020-10-05T12:35:25.493736Z",
     "start_time": "2020-10-05T12:35:21.052880Z"
    },
    "tags": []
   },
   "outputs": [],
   "source": [
    "companies_dict = {col: [] for col in col_names}\n",
    "\n",
    "for col in range(columns):\n",
    "    for row in range(1, rows):\n",
    "        \n",
    "        if col == 1:\n",
    "            value = table.findAll('tr')[row].find_all('td')[col].text\n",
    "            companies_dict[col_names[col]].append(value)\n",
    "        elif col == 0:\n",
    "            value = table.findAll('tr')[row].find_all('td')[col].text.split('.')[0]\n",
    "            companies_dict[col_names[col]].append(value + '.JO')"
   ]
  },
  {
   "cell_type": "code",
   "execution_count": 8,
   "metadata": {
    "ExecuteTime": {
     "end_time": "2020-10-05T12:35:25.511631Z",
     "start_time": "2020-10-05T12:35:25.495334Z"
    }
   },
   "outputs": [
    {
     "data": {
      "text/html": [
       "<div>\n",
       "<style scoped>\n",
       "    .dataframe tbody tr th:only-of-type {\n",
       "        vertical-align: middle;\n",
       "    }\n",
       "\n",
       "    .dataframe tbody tr th {\n",
       "        vertical-align: top;\n",
       "    }\n",
       "\n",
       "    .dataframe thead th {\n",
       "        text-align: right;\n",
       "    }\n",
       "</style>\n",
       "<table border=\"1\" class=\"dataframe\">\n",
       "  <thead>\n",
       "    <tr style=\"text-align: right;\">\n",
       "      <th></th>\n",
       "      <th>symbol</th>\n",
       "      <th>company_name</th>\n",
       "    </tr>\n",
       "  </thead>\n",
       "  <tbody>\n",
       "    <tr>\n",
       "      <th>0</th>\n",
       "      <td>4SI.JO</td>\n",
       "      <td>4SIGHT</td>\n",
       "    </tr>\n",
       "    <tr>\n",
       "      <th>1</th>\n",
       "      <td>ABG.JO</td>\n",
       "      <td>ABSA</td>\n",
       "    </tr>\n",
       "    <tr>\n",
       "      <th>2</th>\n",
       "      <td>ABSP.JO</td>\n",
       "      <td>ABSABANK-P</td>\n",
       "    </tr>\n",
       "    <tr>\n",
       "      <th>3</th>\n",
       "      <td>ACE.JO</td>\n",
       "      <td>ACCENT</td>\n",
       "    </tr>\n",
       "    <tr>\n",
       "      <th>4</th>\n",
       "      <td>ACG.JO</td>\n",
       "      <td>ANCHOR</td>\n",
       "    </tr>\n",
       "    <tr>\n",
       "      <th>...</th>\n",
       "      <td>...</td>\n",
       "      <td>...</td>\n",
       "    </tr>\n",
       "    <tr>\n",
       "      <th>500</th>\n",
       "      <td>YRK.JO</td>\n",
       "      <td>YORK</td>\n",
       "    </tr>\n",
       "    <tr>\n",
       "      <th>501</th>\n",
       "      <td>YYLBEE.JO</td>\n",
       "      <td>YEBOYETHU</td>\n",
       "    </tr>\n",
       "    <tr>\n",
       "      <th>502</th>\n",
       "      <td>ZCL.JO</td>\n",
       "      <td>ZARCLEAR</td>\n",
       "    </tr>\n",
       "    <tr>\n",
       "      <th>503</th>\n",
       "      <td>ZED.JO</td>\n",
       "      <td>ZEDER</td>\n",
       "    </tr>\n",
       "    <tr>\n",
       "      <th>504</th>\n",
       "      <td>ZPLP.JO</td>\n",
       "      <td>ZPLP</td>\n",
       "    </tr>\n",
       "  </tbody>\n",
       "</table>\n",
       "<p>505 rows × 2 columns</p>\n",
       "</div>"
      ],
      "text/plain": [
       "        symbol company_name\n",
       "0       4SI.JO       4SIGHT\n",
       "1       ABG.JO         ABSA\n",
       "2      ABSP.JO   ABSABANK-P\n",
       "3       ACE.JO       ACCENT\n",
       "4       ACG.JO       ANCHOR\n",
       "..         ...          ...\n",
       "500     YRK.JO         YORK\n",
       "501  YYLBEE.JO    YEBOYETHU\n",
       "502     ZCL.JO     ZARCLEAR\n",
       "503     ZED.JO        ZEDER\n",
       "504    ZPLP.JO         ZPLP\n",
       "\n",
       "[505 rows x 2 columns]"
      ]
     },
     "execution_count": 8,
     "metadata": {},
     "output_type": "execute_result"
    }
   ],
   "source": [
    "Companies = pd.DataFrame.from_dict(companies_dict).rename(columns = {'JSE Code':'symbol', 'Share':'company_name'})\n",
    "Companies"
   ]
  },
  {
   "cell_type": "code",
   "execution_count": 10,
   "metadata": {
    "ExecuteTime": {
     "end_time": "2020-10-05T12:46:18.814213Z",
     "start_time": "2020-10-05T12:36:09.902893Z"
    },
    "tags": []
   },
   "outputs": [
    {
     "name": "stdout",
     "output_type": "stream",
     "text": [
      "31: AMETNC.JO not available in database\n",
      "41: APETNC.JO not available in database\n",
      "96: COETNC.JO not available in database\n",
      "110: CVW.JO not available in database\n",
      "125: ECSD.JO not available in database\n",
      "126: ECSD7.JO not available in database\n",
      "127: ECSG.JO not available in database\n",
      "128: ECSP1.JO not available in database\n",
      "129: ECSP21.JO not available in database\n",
      "130: ECSP24.JO not available in database\n",
      "143: ERN.JO not available in database\n",
      "161: FAETNC.JO not available in database\n",
      "162: FAETNQ.JO not available in database\n",
      "164: FDP.JO not available in database\n",
      "170: FSE.JO not available in database\n",
      "171: FSEO1.JO not available in database\n",
      "201: HWA.JO not available in database\n",
      "205: IBLVR2.JO not available in database\n",
      "208: IBRP2.JO not available in database\n",
      "212: IMCB22.JO not available in database\n",
      "251: MCETNC.JO not available in database\n",
      "256: MED.JO not available in database\n",
      "266: MRI.JO not available in database\n",
      "268: MSETNC.JO not available in database\n",
      "269: MSETNQ.JO not available in database\n",
      "279: MWETNC.JO not available in database\n",
      "280: MWETNQ.JO not available in database\n",
      "295: NFETNC.JO not available in database\n",
      "296: NFETNQ.JO not available in database\n",
      "309: NPKP.JO not available in database\n",
      "311: NPP1.JO not available in database\n",
      "352: RBPCB.JO not available in database\n",
      "356: RDI.JO not available in database\n",
      "394: SHFF.JO not available in database\n",
      "451: TCS.JO not available in database\n",
      "453: TDHBP.JO not available in database\n",
      "469: TSETNC.JO not available in database\n",
      "481: UEXGEP.JO not available in database\n"
     ]
    }
   ],
   "source": [
    "Prices = {}\n",
    "symbols = Companies['symbol']\n",
    "start = datetime(2010, 1, 1).date()\n",
    "end = end = datetime.now().date()\n",
    "\n",
    "\n",
    "symbols_not_found = []\n",
    "\n",
    "for i, symbol in enumerate(symbols):\n",
    "    try:\n",
    "\n",
    "        data = web.DataReader(\n",
    "            name = symbol, \n",
    "            data_source = 'yahoo',\n",
    "            start = start,\n",
    "            end = end)\\\n",
    "            .rename(columns = {'Open': 'open',\n",
    "                               'High': 'high',\n",
    "                               'Low': 'low',\n",
    "                               'Close': 'close',\n",
    "                               'Adj Close': 'adj_close',\n",
    "                               'Volume': 'volume'})\n",
    "\n",
    "        Prices[symbol] = data\n",
    "    except Exception:\n",
    "        symbols_not_found.append(symbol)\n",
    "        print(f'{i}: {symbol} not available in database')"
   ]
  },
  {
   "cell_type": "code",
   "execution_count": 12,
   "metadata": {
    "ExecuteTime": {
     "end_time": "2020-10-05T12:46:42.955372Z",
     "start_time": "2020-10-05T12:46:42.951677Z"
    }
   },
   "outputs": [
    {
     "data": {
      "text/plain": [
       "467"
      ]
     },
     "execution_count": 12,
     "metadata": {},
     "output_type": "execute_result"
    }
   ],
   "source": [
    "len(Prices.keys())"
   ]
  },
  {
   "cell_type": "code",
   "execution_count": 13,
   "metadata": {
    "ExecuteTime": {
     "end_time": "2020-10-05T12:46:45.901356Z",
     "start_time": "2020-10-05T12:46:45.543059Z"
    }
   },
   "outputs": [],
   "source": [
    "Companies.to_pickle('/home/ubuntu/projects/trading/data/Companies.pkl')"
   ]
  },
  {
   "cell_type": "code",
   "execution_count": 14,
   "metadata": {
    "ExecuteTime": {
     "end_time": "2020-10-05T12:46:47.749392Z",
     "start_time": "2020-10-05T12:46:46.873300Z"
    }
   },
   "outputs": [],
   "source": [
    "pickle.dump(Prices, open('/home/ubuntu/projects/trading/data/Prices.pkl', 'wb'))"
   ]
  },
  {
   "cell_type": "code",
   "execution_count": null,
   "metadata": {},
   "outputs": [],
   "source": []
  }
 ],
 "metadata": {
  "kernelspec": {
   "display_name": "Python 3",
   "language": "python",
   "name": "python3"
  },
  "language_info": {
   "codemirror_mode": {
    "name": "ipython",
    "version": 3
   },
   "file_extension": ".py",
   "mimetype": "text/x-python",
   "name": "python",
   "nbconvert_exporter": "python",
   "pygments_lexer": "ipython3",
   "version": "3.6.10"
  },
  "latex_envs": {
   "LaTeX_envs_menu_present": true,
   "autoclose": false,
   "autocomplete": true,
   "bibliofile": "biblio.bib",
   "cite_by": "apalike",
   "current_citInitial": 1,
   "eqLabelWithNumbers": true,
   "eqNumInitial": 1,
   "hotkeys": {
    "equation": "Ctrl-E",
    "itemize": "Ctrl-I"
   },
   "labels_anchors": false,
   "latex_user_defs": false,
   "report_style_numbering": false,
   "user_envs_cfg": false
  },
  "toc": {
   "base_numbering": 1,
   "nav_menu": {},
   "number_sections": true,
   "sideBar": true,
   "skip_h1_title": false,
   "title_cell": "Table of Contents",
   "title_sidebar": "Contents",
   "toc_cell": false,
   "toc_position": {},
   "toc_section_display": true,
   "toc_window_display": false
  }
 },
 "nbformat": 4,
 "nbformat_minor": 4
}
